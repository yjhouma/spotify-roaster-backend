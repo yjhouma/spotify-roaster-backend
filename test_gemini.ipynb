{
 "cells": [
  {
   "cell_type": "code",
   "execution_count": 1,
   "metadata": {},
   "outputs": [],
   "source": [
    "from google import genai\n",
    "from pydantic import BaseModel, TypeAdapter\n",
    "from app.config import get_settings\n",
    "\n",
    "setting = get_settings()"
   ]
  },
  {
   "cell_type": "code",
   "execution_count": 15,
   "metadata": {},
   "outputs": [
    {
     "name": "stdout",
     "output_type": "stream",
     "text": [
      "{\n",
      "  \"artist_comment\": [\n",
      "    {\n",
      "      \"artist\": \"Tyler, The Creator\",\n",
      "      \"snarky_introduction\": \"Ah, Tyler, The Creator, the gateway drug to 'alternative' hip-hop.\",\n",
      "      \"comments\": \"So, you think you're edgy, huh? Enjoy your Odd Future phase. Just try not to wear golf wang when you are 40.\"\n",
      "    },\n",
      "    {\n",
      "      \"artist\": \"Kendrick Lamar\",\n",
      "      \"snarky_introduction\": \"Kendrick Lamar, the Pulitzer Prize winner.\",\n",
      "      \"comments\": \"Okay, I see you have some taste. Enjoy the Pulitzer, basic! Still a solid choice for intellectual validation.\"\n",
      "    },\n",
      "    {\n",
      "      \"artist\": \"Frank Ocean\",\n",
      "      \"snarky_introduction\": \"Oh, Frank Ocean. How mysterious and deep.\",\n",
      "      \"comments\": \"I bet you leave Blonde on repeat and stare out the window dramatically, wondering when your next heartbreak will be. Get over yourself.\"\n",
      "    },\n",
      "    {\n",
      "      \"artist\": \"New Jeans\",\n",
      "      \"snarky_introduction\": \"New Jeans? K-Pop. Groundbreaking.\",\n",
      "      \"comments\": \"I bet you know all the dances and can sing along phonetically. Hope you are having fun pretending that you know Korean.\"\n",
      "    },\n",
      "    {\n",
      "      \"artist\": \"Doechii\",\n",
      "      \"snarky_introduction\": \"Doechii, trying to be edgy.\",\n",
      "      \"comments\": \"I hope you know that you are trying to be cool. Just don't try too hard.\"\n",
      "    },\n",
      "    {\n",
      "      \"artist\": \"Kanye West\",\n",
      "      \"snarky_introduction\": \"Kanye West, the self-proclaimed genius.\",\n",
      "      \"comments\": \"Before or after the controversy? Either way, enjoy his music. I hope you will not get canceled for stanning him.\"\n",
      "    },\n",
      "    {\n",
      "      \"artist\": \"XG\",\n",
      "      \"snarky_introduction\": \"XG, another K-Pop group?\",\n",
      "      \"comments\": \"So, you are into K-Pop. Are you even trying to be unique? Enjoy your catchy tunes and perfectly synchronized dances.\"\n",
      "    },\n",
      "    {\n",
      "      \"artist\": \"Charli XCX\",\n",
      "      \"snarky_introduction\": \"Charli XCX, queen of hyperpop.\",\n",
      "      \"comments\": \"Okay, you have some interesting taste. I hope you are not trying too hard to be cool.\"\n",
      "    },\n",
      "    {\n",
      "      \"artist\": \"SZA\",\n",
      "      \"snarky_introduction\": \"SZA, the relatable queen.\",\n",
      "      \"comments\": \"Relatable? I bet you are crying in your room listening to \\\"Kill Bill\\\" while stalking your ex's Instagram. Get over it.\"\n",
      "    },\n",
      "    {\n",
      "      \"artist\": \"N.E.R.D\",\n",
      "      \"snarky_introduction\": \"N.E.R.D, Pharrell's side project.\",\n",
      "      \"comments\": \"Okay, you have some taste. Enjoy your hipster vibes. Try to find some other side project to listen to.\"\n",
      "    }\n",
      "  ],\n",
      "  \"final_verdict\": \"Well, well, well, what do we have here? A carefully curated playlist designed to scream 'I'm cultured, but also, I follow trends!' It's like you threw a dart at a Pitchfork list and hoped for the best. You've got your 'intellectual' hip-hop, your 'enigmatic' R&B, and of course, a healthy dose of K-Pop to show you're 'down with the kids.'\\n\\nHonestly, it's all a bit… predictable. You're trying so hard to be interesting, but it comes off as try-hard. But hey, at least you're not listening to Nickelback, right? So, congratulations on clearing the lowest bar imaginable. Keep pretending you understand the lyrics, and maybe, just maybe, someone will think you're cool. I am just kidding, you have good taste. Just try to not be too pretentious. \"\n",
      "}\n"
     ]
    }
   ],
   "source": [
    "\n",
    "class RoastIndividualArtist(BaseModel):\n",
    "    artist: str\n",
    "    snarky_introduction: str\n",
    "    comments: str\n",
    "\n",
    "class FullRoast(BaseModel):\n",
    "    artist_comment: list[RoastIndividualArtist]\n",
    "    final_verdict: str\n",
    "\n",
    "\n",
    "prompt = '''\n",
    "You are a sarcastic Music snob who thinks your music is superior to others.\n",
    "Your job is to brutally roast my music taste, given my top 10 artists, and be brutally honest, sarcastic, and funny while roasting it.\n",
    "First you will roast the artist one by one, making snarky sarcastic comment about my taste.\n",
    "\n",
    "Then you will create a more coherent verdict about my music taste about 2 to 4 parahraph long.\n",
    "\n",
    "'''\n",
    "\n",
    "artists = 'Here are my top 10 artists: Tyler, The Cereator; Kendrick Lamar; Frank Ocean; New Jeans; Doechii; Kanye West; XG; Charli xcx; SZA; N.E.R.D'\n",
    "\n",
    "\n",
    "client = genai.Client(api_key=setting.GEMINI_API_KEY)\n",
    "response = client.models.generate_content(\n",
    "    model='gemini-2.0-flash',\n",
    "    contents=prompt+artists,\n",
    "    config={\n",
    "        \n",
    "        'response_mime_type': 'application/json',\n",
    "        'response_schema': FullRoast,\n",
    "        'temperature': 0.8\n",
    "    }\n",
    ")\n",
    "# Use the response as a JSON string.\n",
    "print(response.text)\n",
    "\n",
    "# Use instantiated objects.\n",
    "my_recipes: list[RoastIndividualArtist] = response.parsed"
   ]
  },
  {
   "cell_type": "code",
   "execution_count": 14,
   "metadata": {},
   "outputs": [
    {
     "data": {
      "text/plain": [
       "'a; b; c'"
      ]
     },
     "execution_count": 14,
     "metadata": {},
     "output_type": "execute_result"
    }
   ],
   "source": [
    "'; '.join(['a','b','c'])"
   ]
  },
  {
   "cell_type": "code",
   "execution_count": 24,
   "metadata": {},
   "outputs": [
    {
     "data": {
      "text/plain": [
       "'Tyler, The Creator'"
      ]
     },
     "execution_count": 24,
     "metadata": {},
     "output_type": "execute_result"
    }
   ],
   "source": [
    "response.parsed.artist_comment[0].artist"
   ]
  },
  {
   "cell_type": "code",
   "execution_count": null,
   "metadata": {},
   "outputs": [],
   "source": []
  },
  {
   "cell_type": "code",
   "execution_count": null,
   "metadata": {},
   "outputs": [],
   "source": []
  }
 ],
 "metadata": {
  "kernelspec": {
   "display_name": "spotify-app",
   "language": "python",
   "name": "python3"
  },
  "language_info": {
   "codemirror_mode": {
    "name": "ipython",
    "version": 3
   },
   "file_extension": ".py",
   "mimetype": "text/x-python",
   "name": "python",
   "nbconvert_exporter": "python",
   "pygments_lexer": "ipython3",
   "version": "3.13.1"
  }
 },
 "nbformat": 4,
 "nbformat_minor": 2
}
