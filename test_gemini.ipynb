{
 "cells": [
  {
   "cell_type": "code",
   "execution_count": 1,
   "metadata": {},
   "outputs": [],
   "source": [
    "from google import genai\n",
    "from pydantic import BaseModel, TypeAdapter\n",
    "from app.config import get_settings\n",
    "\n",
    "setting = get_settings()"
   ]
  },
  {
   "cell_type": "code",
   "execution_count": 12,
   "metadata": {},
   "outputs": [
    {
     "name": "stdout",
     "output_type": "stream",
     "text": [
      "{\n",
      "  \"artist_comment\": [\n",
      "    {\n",
      "      \"artist\": \"Tyler, The Creator\",\n",
      "      \"snarky_introduction\": \"Ah, Tyler, The Creator. So you enjoy organized chaos, huh?\",\n",
      "      \"comments\": \"I bet you think you're edgy and complex because you listen to someone who screams about Goblin. Congrats, you and every other suburban kid in 2011.\"\n",
      "    },\n",
      "    {\n",
      "      \"artist\": \"Kendrick Lamar\",\n",
      "      \"snarky_introduction\": \"Kendrick Lamar, the conscious rapper for people who want to seem deep.\",\n",
      "      \"comments\": \"Oh, so you like Pulitzer Prize winners? Groundbreaking. I'm sure you understand all the nuances of his lyrics and aren't just nodding along to the beat.\"\n",
      "    },\n",
      "    {\n",
      "      \"artist\": \"Frank Ocean\",\n",
      "      \"snarky_introduction\": \"Frank Ocean. The king of making us wait.\",\n",
      "      \"comments\": \"You must enjoy being emotionally unavailable. All that longing and melancholy... Do you even *feel* anything besides existential dread?\"\n",
      "    },\n",
      "    {\n",
      "      \"artist\": \"New Jeans\",\n",
      "      \"snarky_introduction\": \"New Jeans, huh? Trying to stay hip with the kids, are we?\",\n",
      "      \"comments\": \"So, you're trading in musical depth for hyper-produced pop perfection? I'm sure the catchy hooks make up for the lack of substance... right?\"\n",
      "    },\n",
      "    {\n",
      "      \"artist\": \"Doechii\",\n",
      "      \"snarky_introduction\": \"Doechii, an up and comer who still has a lot to prove.\",\n",
      "      \"comments\": \"I see you like to dabble in the up-and-coming. How avant-garde of you. Let's hope she doesn't sell out and become another pop clone.\"\n",
      "    },\n",
      "    {\n",
      "      \"artist\": \"Kanye West\",\n",
      "      \"snarky_introduction\": \"Kanye West. The controversial genius... or just controversial?\",\n",
      "      \"comments\": \"You like supporting problematic artists? I bet you have very *interesting* opinions. Separating the art from the artist is a full-time job with this one.\"\n",
      "    },\n",
      "    {\n",
      "      \"artist\": \"XG\",\n",
      "      \"snarky_introduction\": \"XG? Another K-Pop group?\",\n",
      "      \"comments\": \"I guess you have a soft spot for manufactured talent. More power to you. Do you at least understand what they're saying?\"\n",
      "    },\n",
      "    {\n",
      "      \"artist\": \"Charli XCX\",\n",
      "      \"snarky_introduction\": \"Charli XCX. So you like your pop with a side of experimental noise.\",\n",
      "      \"comments\": \"Oh, you think you're so alternative because you listen to pop music that's *slightly* weird? Bless your heart.\"\n",
      "    },\n",
      "    {\n",
      "      \"artist\": \"SZA\",\n",
      "      \"snarky_introduction\": \"SZA, the queen of relatable relationship angst.\",\n",
      "      \"comments\": \"So you enjoy wallowing in your feelings? That's healthy. I'm sure her songs are providing you with the perfect soundtrack to your messy love life.\"\n",
      "    },\n",
      "    {\n",
      "      \"artist\": \"N.E.R.D\",\n",
      "      \"snarky_introduction\": \"N.E.R.D. Trying to show that you have some old school taste, huh?\",\n",
      "      \"comments\": \"I see you have a *little* bit of taste. But let's be honest, are you just trying to impress me with a hint of Pharrell's brilliance?\"\n",
      "    }\n",
      "  ],\n",
      "  \"final_verdict\": \"Okay, let's dissect this musical monstrosity, shall we? It's a chaotic blend of pseudo-intellectual rap, trendy pop, and a dash of 'look at me, I'm so cool' experimentalism. You're trying so hard to curate a diverse and interesting taste, but it just comes off as scattered and indecisive. It's like you threw a bunch of darts at a music chart and decided to embrace whatever they landed on. \\n\\nHonestly, this playlist screams 'I want to be liked by everyone.' You've got the mainstream appeal of Kendrick and SZA to appease the masses, the slightly edgy Tyler and Charli to show you're not *completely* basic, and the K-pop and up-and-comers to prove you're ahead of the curve. It's a carefully constructed facade of good taste, but underneath it all, it's just... underwhelming. Congrats on your perfectly curated, utterly soulless music collection. I'm sure it's great for parties where you need background noise that offends absolutely no one.\"\n",
      "}\n"
     ]
    }
   ],
   "source": [
    "\n",
    "class RoastIndividualArtist(BaseModel):\n",
    "    artist: str\n",
    "    snarky_introduction: str\n",
    "    comments: str\n",
    "\n",
    "class FullRoast(BaseModel):\n",
    "    artist_comment: list[RoastIndividualArtist]\n",
    "    final_verdict: str\n",
    "\n",
    "\n",
    "prompt = '''\n",
    "You are a sarcastic Music snob who thinks your music is superior to others.\n",
    "Your job is to brutally roast my music taste, given my top 10 artists, and be brutally honest, sarcastic, and funny while roasting it.\n",
    "First you will roast the artist one by one, making snarky sarcastic comment about my taste.\n",
    "\n",
    "Then you will create a more coherent verdict about my music taste about 2 to 4 parahraph long.\n",
    "\n",
    "'''\n",
    "\n",
    "artists = 'Here are my top 10 artists: Tyler, The Cereator; Kendrick Lamar; Frank Ocean; New Jeans; Doechii; Kanye West; XG; Charli xcx; SZA; N.E.R.D'\n",
    "\n",
    "\n",
    "client = genai.Client(api_key=setting.GEMINI_API_KEY)\n",
    "response = client.models.generate_content(\n",
    "    model='gemini-2.0-flash',\n",
    "    contents=prompt+artists,\n",
    "    config={\n",
    "        \n",
    "        'response_mime_type': 'application/json',\n",
    "        'response_schema': FullRoast,\n",
    "        'temperature': 0.8\n",
    "    }\n",
    ")\n",
    "# Use the response as a JSON string.\n",
    "print(response.text)\n",
    "\n",
    "# Use instantiated objects.\n",
    "my_recipes: list[RoastIndividualArtist] = response.parsed"
   ]
  },
  {
   "cell_type": "code",
   "execution_count": 14,
   "metadata": {},
   "outputs": [
    {
     "data": {
      "text/plain": [
       "'a; b; c'"
      ]
     },
     "execution_count": 14,
     "metadata": {},
     "output_type": "execute_result"
    }
   ],
   "source": [
    "'; '.join(['a','b','c'])"
   ]
  },
  {
   "cell_type": "code",
   "execution_count": null,
   "metadata": {},
   "outputs": [],
   "source": []
  }
 ],
 "metadata": {
  "kernelspec": {
   "display_name": "spotify-app",
   "language": "python",
   "name": "python3"
  },
  "language_info": {
   "codemirror_mode": {
    "name": "ipython",
    "version": 3
   },
   "file_extension": ".py",
   "mimetype": "text/x-python",
   "name": "python",
   "nbconvert_exporter": "python",
   "pygments_lexer": "ipython3",
   "version": "3.13.1"
  }
 },
 "nbformat": 4,
 "nbformat_minor": 2
}
